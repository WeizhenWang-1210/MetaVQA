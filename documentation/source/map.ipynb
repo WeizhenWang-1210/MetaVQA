{
 "cells": [
  {
   "cell_type": "markdown",
   "id": "8b81ba11-b84b-4acd-85ee-e41d71b379b4",
   "metadata": {},
   "source": [
    "# Map\n",
    "\n",
    "[![Click and Open In Colab](https://colab.research.google.com/assets/colab-badge.svg)](https://colab.research.google.com/github/metadriverse/metadrive/blob/main/documentation/source/map.ipynb)\n",
    "\n",
    "\n",
    "\n",
    "\n",
    "## PGMap\n",
    "\n",
    "## ScenarioMap"
   ]
  }
 ],
 "metadata": {
  "kernelspec": {
   "display_name": "Python 3 (ipykernel)",
   "language": "python",
   "name": "python3"
  },
  "language_info": {
   "codemirror_mode": {
    "name": "ipython",
    "version": 3
   },
   "file_extension": ".py",
   "mimetype": "text/x-python",
   "name": "python",
   "nbconvert_exporter": "python",
   "pygments_lexer": "ipython3",
   "version": "3.9.17"
  }
 },
 "nbformat": 4,
 "nbformat_minor": 5
}
