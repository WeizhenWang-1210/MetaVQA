{
 "cells": [
  {
   "cell_type": "markdown",
   "id": "2832faf1-1bd3-4a95-8b0d-b3289e74d4d0",
   "metadata": {},
   "source": [
    "# Demonstration on MultigoalIntersection\n",
    "\n",
    "In this notebook, we demonstrate how to setup a multigoal intersection environment where you can access relevant stats (e.g. route completion, reward, success rate) for all four possible goals (right turn, left turn, move forward, U turn) simultaneously.\n",
    "\n",
    "We demonstrate how to build the environment, in which we have successfully trained a SAC expert that achieves 99% success rate, and how to access those stats in the info dict returned each step.\n",
    "\n",
    "*Note: We pretrain the SAC expert with `use_multigoal_intersection=False` and then finetune it with `use_multigoal_intersection=True`.*"
   ]
  },
  {
   "cell_type": "code",
   "execution_count": 1,
   "id": "b9733eac-9d07-47cf-bda7-4dbb8d5f2412",
   "metadata": {},
   "outputs": [],
   "source": [
    "import numpy as np\n",
    "from metadrive.envs.gym_wrapper import create_gym_wrapper\n",
    "from metadrive.envs.multigoal_intersection import MultiGoalIntersectionEnv\n",
    "import mediapy as media\n",
    "\n",
    "render = False\n",
    "num_scenarios = 1000\n",
    "start_seed = 100"
   ]
  },
  {
   "cell_type": "code",
   "execution_count": 2,
   "id": "f5b6f059-52f8-46ee-bcfe-dee6f4d2e2e6",
   "metadata": {},
   "outputs": [
    {
     "name": "stderr",
     "output_type": "stream",
     "text": [
      "\u001b[38;20m[INFO] Environment: MultiGoalIntersectionEnv\u001b[0m\n",
      "\u001b[38;20m[INFO] MetaDrive version: 0.4.3\u001b[0m\n",
      "\u001b[38;20m[INFO] Sensors: [lidar: Lidar(), side_detector: SideDetector(), lane_line_detector: LaneLineDetector()]\u001b[0m\n",
      "\u001b[38;20m[INFO] Render Mode: none\u001b[0m\n",
      "\u001b[38;20m[INFO] Horizon (Max steps per agent): 500\u001b[0m\n"
     ]
    }
   ],
   "source": [
    "env_config = dict(\n",
    "    use_render=render,\n",
    "    manual_control=False,\n",
    "    horizon=500,  # to speed up training\n",
    "\n",
    "    traffic_density=0.06,\n",
    "    \n",
    "    use_multigoal_intersection=True,  # Set to False if want to use the same observation but with original PG scenarios.\n",
    "    out_of_route_done=False,\n",
    "\n",
    "    num_scenarios=num_scenarios,\n",
    "    start_seed=start_seed,\n",
    "    accident_prob=0.8,\n",
    "    crash_vehicle_done=False,\n",
    "    crash_object_done=False,\n",
    ")\n",
    "\n",
    "wrapped = create_gym_wrapper(MultiGoalIntersectionEnv)\n",
    "\n",
    "env = wrapped(env_config)\n"
   ]
  },
  {
   "cell_type": "code",
   "execution_count": 3,
   "id": "ae2abe78-f3e3-40b9-88dd-a958fc932363",
   "metadata": {},
   "outputs": [
    {
     "name": "stderr",
     "output_type": "stream",
     "text": [
      "\u001b[38;20m[INFO] Assets version: 0.4.3\u001b[0m\n",
      "\u001b[38;20m[INFO] Known Pipes: glxGraphicsPipe\u001b[0m\n",
      "\u001b[38;20m[INFO] Start Scenario Index: 100, Num Scenarios : 1000\u001b[0m\n",
      "\u001b[33;20m[WARNING] env.vehicle will be deprecated soon. Use env.agent instead (base_env.py:737)\u001b[0m\n",
      "\u001b[38;20m[INFO] Episode ended! Scenario Index: 542 Reason: arrive_dest.\u001b[0m\n"
     ]
    }
   ],
   "source": [
    "frames = []\n",
    "\n",
    "try:\n",
    "    env.reset()\n",
    "    while True:\n",
    "        action = [0, 1]\n",
    "        o, r, d, i = env.step(action)\n",
    "        frame = env.render(mode=\"topdown\")\n",
    "        frames.append(frame)\n",
    "        if d:\n",
    "            break\n",
    "finally:\n",
    "    env.close()"
   ]
  },
  {
   "cell_type": "code",
   "execution_count": 4,
   "id": "40ac0392-67e3-4d2d-a9bd-2065831e43ca",
   "metadata": {},
   "outputs": [
    {
     "name": "stdout",
     "output_type": "stream",
     "text": [
      "Output at final step:\n",
      "\tacceleration: 1.000\n",
      "\tarrive_dest: 1.000\n",
      "\tarrive_dest/goals/default: 1.000\n",
      "\tarrive_dest/goals/go_straight: 1.000\n",
      "\tarrive_dest/goals/left_turn: 0.000\n",
      "\tarrive_dest/goals/right_turn: 0.000\n",
      "\tarrive_dest/goals/u_turn: 0.000\n",
      "\tcost: 0.000\n",
      "\tcrash: 0.000\n",
      "\tcrash_building: 0.000\n",
      "\tcrash_human: 0.000\n",
      "\tcrash_object: 0.000\n",
      "\tcrash_sidewalk: 0.000\n",
      "\tcrash_vehicle: 0.000\n",
      "\tcurrent_goal: go_straight\n",
      "\tenv_seed: 542.000\n",
      "\tepisode_energy: 6.565\n",
      "\tepisode_length: 85.000\n",
      "\tepisode_reward: 122.793\n",
      "\tmax_step: 0.000\n",
      "\tnavigation_command: forward\n",
      "\tnavigation_forward: 1.000\n",
      "\tnavigation_left: 0.000\n",
      "\tnavigation_right: 0.000\n",
      "\tout_of_road: 0.000\n",
      "\tovertake_vehicle_num: 0.000\n",
      "\tpolicy: EnvInputPolicy\n",
      "\treward/default_reward: 12.332\n",
      "\treward/goals/default: 12.332\n",
      "\treward/goals/go_straight: 12.332\n",
      "\treward/goals/left_turn: -10.000\n",
      "\treward/goals/right_turn: -10.000\n",
      "\treward/goals/u_turn: -10.000\n",
      "\troute_completion: 0.969\n",
      "\troute_completion/goals/default: 0.969\n",
      "\troute_completion/goals/go_straight: 0.969\n",
      "\troute_completion/goals/left_turn: 0.621\n",
      "\troute_completion/goals/right_turn: 0.644\n",
      "\troute_completion/goals/u_turn: 0.557\n",
      "\tsteering: 0.000\n",
      "\tstep_energy: 0.162\n",
      "\tvelocity: 22.291\n"
     ]
    }
   ],
   "source": [
    "print(\"Output at final step:\")\n",
    "\n",
    "i = {k: i[k] for k in sorted(i.keys())}\n",
    "for k, v in i.items():\n",
    "    if isinstance(v, str):\n",
    "        s = v\n",
    "    elif np.iterable(v):\n",
    "        continue\n",
    "    else:\n",
    "        s = \"{:.3f}\".format(v)\n",
    "    print(\"\\t{}: {}\".format(k, s))"
   ]
  },
  {
   "cell_type": "code",
   "execution_count": 5,
   "id": "dc986e4e-f81c-4882-88b2-9eb306552fb3",
   "metadata": {},
   "outputs": [
    {
     "data": {
      "text/html": [
       "<table class=\"show_videos\" style=\"border-spacing:0px;\"><tr><td style=\"padding:1px;\"><video controls width=\"800\" height=\"800\" style=\"object-fit:cover;\" loop autoplay muted>\n",
       "      <source src=\"data:video/mp4;base64,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\" type=\"video/mp4\"/>\n",
       "      This browser does not support the video tag.\n",
       "      </video></td></tr></table>"
      ],
      "text/plain": [
       "<IPython.core.display.HTML object>"
      ]
     },
     "metadata": {},
     "output_type": "display_data"
    }
   ],
   "source": [
    "media.show_video(frames)"
   ]
  }
 ],
 "metadata": {
  "kernelspec": {
   "display_name": "Python 3 (ipykernel)",
   "language": "python",
   "name": "python3"
  },
  "language_info": {
   "codemirror_mode": {
    "name": "ipython",
    "version": 3
   },
   "file_extension": ".py",
   "mimetype": "text/x-python",
   "name": "python",
   "nbconvert_exporter": "python",
   "pygments_lexer": "ipython3",
   "version": "3.10.15"
  }
 },
 "nbformat": 4,
 "nbformat_minor": 5
}
